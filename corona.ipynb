{
 "metadata": {
  "language_info": {
   "codemirror_mode": {
    "name": "ipython",
    "version": 3
   },
   "file_extension": ".py",
   "mimetype": "text/x-python",
   "name": "python",
   "nbconvert_exporter": "python",
   "pygments_lexer": "ipython3",
   "version": "3.8.3-final"
  },
  "orig_nbformat": 2,
  "kernelspec": {
   "name": "python38264bitfe56a6908a7e42b29303f9984bff4e5b",
   "display_name": "Python 3.8.2 64-bit"
  }
 },
 "nbformat": 4,
 "nbformat_minor": 2,
 "cells": [
  {
   "cell_type": "markdown",
   "metadata": {},
   "source": [
    "# Coronavirus\n",
    "Statistics about coronavirus in Czechia.  \n",
    "Filip Gregor, FIT ČVUT, 2020 "
   ]
  },
  {
   "cell_type": "code",
   "execution_count": 61,
   "metadata": {},
   "outputs": [],
   "source": [
    "tests = \"https://onemocneni-aktualne.mzcr.cz/api/v1/covid-19/testy.csv\"\n",
    "cases = \"https://onemocneni-aktualne.mzcr.cz/api/v1/covid-19/nakaza.csv\"\n",
    "patients = \"https://onemocneni-aktualne.mzcr.cz/api/v1/covid-19/osoby.csv\""
   ]
  },
  {
   "cell_type": "markdown",
   "metadata": {},
   "source": [
    "Import python libraries"
   ]
  },
  {
   "cell_type": "code",
   "execution_count": 62,
   "metadata": {},
   "outputs": [],
   "source": [
    "import pandas as pd"
   ]
  },
  {
   "cell_type": "markdown",
   "metadata": {},
   "source": [
    "Read the data and save them into panda dataframe."
   ]
  },
  {
   "cell_type": "code",
   "execution_count": 66,
   "metadata": {},
   "outputs": [
    {
     "output_type": "execute_result",
     "data": {
      "text/plain": "           date  daily_tests  all_time_tests\n184  2020-07-29         7295          683613\n185  2020-07-30         7516          691129\n186  2020-07-31         8110          699239\n187  2020-08-01         4651          703890\n188  2020-08-02         2571          706461",
      "text/html": "<div>\n<style scoped>\n    .dataframe tbody tr th:only-of-type {\n        vertical-align: middle;\n    }\n\n    .dataframe tbody tr th {\n        vertical-align: top;\n    }\n\n    .dataframe thead th {\n        text-align: right;\n    }\n</style>\n<table border=\"1\" class=\"dataframe\">\n  <thead>\n    <tr style=\"text-align: right;\">\n      <th></th>\n      <th>date</th>\n      <th>daily_tests</th>\n      <th>all_time_tests</th>\n    </tr>\n  </thead>\n  <tbody>\n    <tr>\n      <th>184</th>\n      <td>2020-07-29</td>\n      <td>7295</td>\n      <td>683613</td>\n    </tr>\n    <tr>\n      <th>185</th>\n      <td>2020-07-30</td>\n      <td>7516</td>\n      <td>691129</td>\n    </tr>\n    <tr>\n      <th>186</th>\n      <td>2020-07-31</td>\n      <td>8110</td>\n      <td>699239</td>\n    </tr>\n    <tr>\n      <th>187</th>\n      <td>2020-08-01</td>\n      <td>4651</td>\n      <td>703890</td>\n    </tr>\n    <tr>\n      <th>188</th>\n      <td>2020-08-02</td>\n      <td>2571</td>\n      <td>706461</td>\n    </tr>\n  </tbody>\n</table>\n</div>"
     },
     "metadata": {},
     "execution_count": 66
    }
   ],
   "source": [
    "df_tests = pd.read_csv(tests)\n",
    "# Translate column headers into english. \n",
    "df_tests = df_tests.rename({\n",
    "    'datum' : 'date',\n",
    "    'testy_den' : 'daily_tests',\n",
    "    'testy_celkem' : 'all_time_tests'\n",
    "}, axis = 1)\n",
    "df_tests.tail()"
   ]
  },
  {
   "cell_type": "code",
   "execution_count": 67,
   "metadata": {},
   "outputs": [
    {
     "output_type": "execute_result",
     "data": {
      "text/plain": "           date  daily_cases  positive\n185  2020-07-30          252     16341\n186  2020-07-31          231     16572\n187  2020-08-01          124     16696\n188  2020-08-02          102     16798\n189  2020-08-03          210     17008",
      "text/html": "<div>\n<style scoped>\n    .dataframe tbody tr th:only-of-type {\n        vertical-align: middle;\n    }\n\n    .dataframe tbody tr th {\n        vertical-align: top;\n    }\n\n    .dataframe thead th {\n        text-align: right;\n    }\n</style>\n<table border=\"1\" class=\"dataframe\">\n  <thead>\n    <tr style=\"text-align: right;\">\n      <th></th>\n      <th>date</th>\n      <th>daily_cases</th>\n      <th>positive</th>\n    </tr>\n  </thead>\n  <tbody>\n    <tr>\n      <th>185</th>\n      <td>2020-07-30</td>\n      <td>252</td>\n      <td>16341</td>\n    </tr>\n    <tr>\n      <th>186</th>\n      <td>2020-07-31</td>\n      <td>231</td>\n      <td>16572</td>\n    </tr>\n    <tr>\n      <th>187</th>\n      <td>2020-08-01</td>\n      <td>124</td>\n      <td>16696</td>\n    </tr>\n    <tr>\n      <th>188</th>\n      <td>2020-08-02</td>\n      <td>102</td>\n      <td>16798</td>\n    </tr>\n    <tr>\n      <th>189</th>\n      <td>2020-08-03</td>\n      <td>210</td>\n      <td>17008</td>\n    </tr>\n  </tbody>\n</table>\n</div>"
     },
     "metadata": {},
     "execution_count": 67
    }
   ],
   "source": [
    "df_cases = pd.read_csv(cases)\n",
    "df_cases = df_cases.rename({\n",
    "    'datum' : 'date',\n",
    "    'pocet_den' : 'daily_cases',\n",
    "    'pocet_celkem' : 'positive'\n",
    "}, axis = 1)\n",
    "df_cases.tail()\n"
   ]
  },
  {
   "cell_type": "markdown",
   "metadata": {},
   "source": [
    "Create a dataframe named 'corona' which has rows containing daily test cases and positive cases in that day, and all positive cases.  \n",
    "Also delete leading rows which has 0 positive cases."
   ]
  },
  {
   "cell_type": "code",
   "execution_count": 72,
   "metadata": {},
   "outputs": [
    {
     "output_type": "execute_result",
     "data": {
      "text/plain": "           date  daily_cases  daily_tests  positive\n184  2020-07-29          274       7295.0     16089\n185  2020-07-30          252       7516.0     16341\n186  2020-07-31          231       8110.0     16572\n187  2020-08-01          124       4651.0     16696\n188  2020-08-02          102       2571.0     16798",
      "text/html": "<div>\n<style scoped>\n    .dataframe tbody tr th:only-of-type {\n        vertical-align: middle;\n    }\n\n    .dataframe tbody tr th {\n        vertical-align: top;\n    }\n\n    .dataframe thead th {\n        text-align: right;\n    }\n</style>\n<table border=\"1\" class=\"dataframe\">\n  <thead>\n    <tr style=\"text-align: right;\">\n      <th></th>\n      <th>date</th>\n      <th>daily_cases</th>\n      <th>daily_tests</th>\n      <th>positive</th>\n    </tr>\n  </thead>\n  <tbody>\n    <tr>\n      <th>184</th>\n      <td>2020-07-29</td>\n      <td>274</td>\n      <td>7295.0</td>\n      <td>16089</td>\n    </tr>\n    <tr>\n      <th>185</th>\n      <td>2020-07-30</td>\n      <td>252</td>\n      <td>7516.0</td>\n      <td>16341</td>\n    </tr>\n    <tr>\n      <th>186</th>\n      <td>2020-07-31</td>\n      <td>231</td>\n      <td>8110.0</td>\n      <td>16572</td>\n    </tr>\n    <tr>\n      <th>187</th>\n      <td>2020-08-01</td>\n      <td>124</td>\n      <td>4651.0</td>\n      <td>16696</td>\n    </tr>\n    <tr>\n      <th>188</th>\n      <td>2020-08-02</td>\n      <td>102</td>\n      <td>2571.0</td>\n      <td>16798</td>\n    </tr>\n  </tbody>\n</table>\n</div>"
     },
     "metadata": {},
     "execution_count": 72
    }
   ],
   "source": [
    "corona = pd.DataFrame(data = {\n",
    "    'date' : df_cases.date,\n",
    "    'daily_cases' : df_cases.daily_cases,\n",
    "    'daily_tests' : df_tests.daily_tests,\n",
    "    'positive' : df_cases.positive,\n",
    "})\n",
    "corona = corona[:-1]\n",
    "# Last row often has missing values in df_tests, so just remove it. \n",
    "corona.tail()"
   ]
  },
  {
   "cell_type": "code",
   "execution_count": 90,
   "metadata": {
    "tags": []
   },
   "outputs": [
    {
     "output_type": "execute_result",
     "data": {
      "text/plain": "          date  daily_cases  daily_tests  positive\n184 2020-07-29          274       7295.0     16089\n185 2020-07-30          252       7516.0     16341\n186 2020-07-31          231       8110.0     16572\n187 2020-08-01          124       4651.0     16696\n188 2020-08-02          102       2571.0     16798",
      "text/html": "<div>\n<style scoped>\n    .dataframe tbody tr th:only-of-type {\n        vertical-align: middle;\n    }\n\n    .dataframe tbody tr th {\n        vertical-align: top;\n    }\n\n    .dataframe thead th {\n        text-align: right;\n    }\n</style>\n<table border=\"1\" class=\"dataframe\">\n  <thead>\n    <tr style=\"text-align: right;\">\n      <th></th>\n      <th>date</th>\n      <th>daily_cases</th>\n      <th>daily_tests</th>\n      <th>positive</th>\n    </tr>\n  </thead>\n  <tbody>\n    <tr>\n      <th>184</th>\n      <td>2020-07-29</td>\n      <td>274</td>\n      <td>7295.0</td>\n      <td>16089</td>\n    </tr>\n    <tr>\n      <th>185</th>\n      <td>2020-07-30</td>\n      <td>252</td>\n      <td>7516.0</td>\n      <td>16341</td>\n    </tr>\n    <tr>\n      <th>186</th>\n      <td>2020-07-31</td>\n      <td>231</td>\n      <td>8110.0</td>\n      <td>16572</td>\n    </tr>\n    <tr>\n      <th>187</th>\n      <td>2020-08-01</td>\n      <td>124</td>\n      <td>4651.0</td>\n      <td>16696</td>\n    </tr>\n    <tr>\n      <th>188</th>\n      <td>2020-08-02</td>\n      <td>102</td>\n      <td>2571.0</td>\n      <td>16798</td>\n    </tr>\n  </tbody>\n</table>\n</div>"
     },
     "metadata": {},
     "execution_count": 90
    }
   ],
   "source": [
    "# Convert date to datetype \n",
    "corona['date'] = pd.to_datetime(corona['date'], format='%Y-%m-%d')\n",
    "# Sort values by date and reset indexes\n",
    "corona.sort_values('date')\n",
    "corona.reset_index(drop=True)\n",
    "corona.tail()"
   ]
  },
  {
   "cell_type": "code",
   "execution_count": 88,
   "metadata": {
    "tags": []
   },
   "outputs": [
    {
     "output_type": "execute_result",
     "data": {
      "text/plain": "         date  daily_cases  daily_tests  positive\n34 2020-03-01            3         11.0         3\n35 2020-03-02            0         51.0         3\n36 2020-03-03            2         78.0         5\n37 2020-03-04            1         67.0         6\n38 2020-03-05            3         76.0         9",
      "text/html": "<div>\n<style scoped>\n    .dataframe tbody tr th:only-of-type {\n        vertical-align: middle;\n    }\n\n    .dataframe tbody tr th {\n        vertical-align: top;\n    }\n\n    .dataframe thead th {\n        text-align: right;\n    }\n</style>\n<table border=\"1\" class=\"dataframe\">\n  <thead>\n    <tr style=\"text-align: right;\">\n      <th></th>\n      <th>date</th>\n      <th>daily_cases</th>\n      <th>daily_tests</th>\n      <th>positive</th>\n    </tr>\n  </thead>\n  <tbody>\n    <tr>\n      <th>34</th>\n      <td>2020-03-01</td>\n      <td>3</td>\n      <td>11.0</td>\n      <td>3</td>\n    </tr>\n    <tr>\n      <th>35</th>\n      <td>2020-03-02</td>\n      <td>0</td>\n      <td>51.0</td>\n      <td>3</td>\n    </tr>\n    <tr>\n      <th>36</th>\n      <td>2020-03-03</td>\n      <td>2</td>\n      <td>78.0</td>\n      <td>5</td>\n    </tr>\n    <tr>\n      <th>37</th>\n      <td>2020-03-04</td>\n      <td>1</td>\n      <td>67.0</td>\n      <td>6</td>\n    </tr>\n    <tr>\n      <th>38</th>\n      <td>2020-03-05</td>\n      <td>3</td>\n      <td>76.0</td>\n      <td>9</td>\n    </tr>\n  </tbody>\n</table>\n</div>"
     },
     "metadata": {},
     "execution_count": 88
    }
   ],
   "source": [
    "corona_Pmask = corona['daily_cases'] > 0\n",
    "\n",
    "# Count how many leading rows have 0 cases, stop when we encounter a row that has cases.\n",
    "count = 0\n",
    "for x in corona_Pmask:\n",
    "    if x:\n",
    "        break\n",
    "    count += 1\n",
    "    \n",
    "corona = corona.iloc[count:]\n",
    "corona.head()"
   ]
  },
  {
   "cell_type": "code",
   "execution_count": 91,
   "metadata": {},
   "outputs": [
    {
     "output_type": "error",
     "ename": "NameError",
     "evalue": "name 's' is not defined",
     "traceback": [
      "\u001b[0;31m---------------------------------------------------------------------------\u001b[0m",
      "\u001b[0;31mNameError\u001b[0m                                 Traceback (most recent call last)",
      "\u001b[0;32m<ipython-input-91-ded5ba42480f>\u001b[0m in \u001b[0;36m<module>\u001b[0;34m\u001b[0m\n\u001b[0;32m----> 1\u001b[0;31m \u001b[0ms\u001b[0m\u001b[0;34m\u001b[0m\u001b[0;34m\u001b[0m\u001b[0m\n\u001b[0m",
      "\u001b[0;31mNameError\u001b[0m: name 's' is not defined"
     ]
    }
   ],
   "source": []
  },
  {
   "cell_type": "code",
   "execution_count": null,
   "metadata": {},
   "outputs": [],
   "source": []
  }
 ]
}